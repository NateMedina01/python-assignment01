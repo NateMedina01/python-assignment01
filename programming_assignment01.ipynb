{
 "cells": [
  {
   "cell_type": "code",
   "execution_count": 1,
   "id": "7004be36-b9b2-4d2c-9815-c2f7d7ba04b1",
   "metadata": {},
   "outputs": [
    {
     "name": "stdin",
     "output_type": "stream",
     "text": [
      " lily\n",
      " tulip\n",
      " rose\n",
      " sunflower\n",
      " dandelion\n",
      " marigold\n"
     ]
    },
    {
     "name": "stdout",
     "output_type": "stream",
     "text": [
      "['lily', 'tulip', 'rose']\n",
      "['sunflower', 'dandelion']\n",
      "['lily', 'tulip', 'rose', 'sunflower', 'dandelion']\n",
      "['lily', 'tulip', 'rose', 'sunflower', 'dandelion', 'marigold']\n",
      "['lily', 'marigold', 'rose', 'sunflower', 'dandelion', 'marigold']\n",
      "['lily', 'marigold', 'sunflower', 'dandelion', 'marigold']\n"
     ]
    }
   ],
   "source": [
    "myFlower1 = input()\n",
    "myFlower2 = input()\n",
    "myFlower3 = input()\n",
    "\n",
    "yourFlower1 = input()\n",
    "yourFlower2 = input()\n",
    "\n",
    "theirFlower = input()\n",
    "\n",
    "# Define myList containing myFlower1, myFlower2, and myFlower3 in that order\n",
    "myList = [myFlower1, myFlower2, myFlower3]\n",
    "print(myList)\n",
    "\n",
    "# Define yourList containing yourFlower1 and yourFlower2 in that order\n",
    "yourList = [yourFlower1, yourFlower2]\n",
    "print(yourList)\n",
    "\n",
    "# Define ourList by concatenating myList and yourList\n",
    "ourList = myList + yourList\n",
    "print(ourList)\n",
    "\n",
    "# Append theirFlower to the end of ourList\n",
    "ourList.append(theirFlower)\n",
    "print(ourList)\n",
    "\n",
    "# Replace myFlower2 in ourList with theirFlower\n",
    "ourList[1] = theirFlower\n",
    "print(ourList)\n",
    "\n",
    "# Remove the third element of ourList\n",
    "del ourList[2]\n",
    "print(ourList)"
   ]
  },
  {
   "cell_type": "code",
   "execution_count": 2,
   "id": "28186adf-bd69-4c10-9463-e787bf4c368d",
   "metadata": {},
   "outputs": [
    {
     "name": "stdin",
     "output_type": "stream",
     "text": [
      " apple\n",
      " pear\n",
      " grape\n",
      " orange\n",
      " kiwi\n",
      " banana\n"
     ]
    },
    {
     "name": "stdout",
     "output_type": "stream",
     "text": [
      "['apple', 'grape', 'pear']\n",
      "['apple', 'banana', 'grape', 'pear']\n",
      "[]\n",
      "['banana', 'grape', 'pear']\n"
     ]
    }
   ],
   "source": [
    "myFruit1 = input()\n",
    "myFruit2 = input()\n",
    "myFruit3 = input()\n",
    "\n",
    "yourFruit1 = input()\n",
    "yourFruit2 = input()\n",
    "\n",
    "theirFruit = input()\n",
    "\n",
    "# Define a set, fruits, containing myFruit1, myFruit2, and myFruit3\n",
    "fruits = {myFruit1, myFruit2, myFruit3}\n",
    "print(sorted(fruits))\n",
    "\n",
    "# Add theirFruit to fruits\n",
    "fruits.add(theirFruit)\n",
    "print(sorted(fruits))\n",
    "\n",
    "# Find the intersection of fruits, and yourFruit1 and yourFruit2\n",
    "fruitsInter = fruits.intersection({yourFruit1, yourFruit2})\n",
    "print(sorted(fruitsInter))\n",
    "\n",
    "# Remove myFruit1 from fruits\n",
    "fruits.discard(myFruit1)\n",
    "print(sorted(fruits))"
   ]
  },
  {
   "cell_type": "code",
   "execution_count": null,
   "id": "83ef75fd-3bdb-446b-aa43-b2dedb96390d",
   "metadata": {},
   "outputs": [],
   "source": []
  }
 ],
 "metadata": {
  "kernelspec": {
   "display_name": "Python 3 (ipykernel)",
   "language": "python",
   "name": "python3"
  },
  "language_info": {
   "codemirror_mode": {
    "name": "ipython",
    "version": 3
   },
   "file_extension": ".py",
   "mimetype": "text/x-python",
   "name": "python",
   "nbconvert_exporter": "python",
   "pygments_lexer": "ipython3",
   "version": "3.13.7"
  }
 },
 "nbformat": 4,
 "nbformat_minor": 5
}
